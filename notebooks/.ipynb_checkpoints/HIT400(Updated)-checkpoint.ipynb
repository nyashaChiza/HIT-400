{
 "cells": [
  {
   "cell_type": "code",
   "execution_count": 1,
   "id": "worst-position",
   "metadata": {},
   "outputs": [],
   "source": [
    "import numpy as np\n",
    "import pandas as pd\n",
    "from matplotlib import pyplot as plt, rcParams\n",
    "import seaborn as sns\n",
    "from sklearn.preprocessing import OneHotEncoder\n",
    "rcParams['figure.figsize'] = 11,10\n",
    "import joblib\n",
    "link = '../Datasets/hit400Dataset.csv'"
   ]
  },
  {
   "cell_type": "code",
   "execution_count": 2,
   "id": "balanced-chicken",
   "metadata": {},
   "outputs": [],
   "source": [
    "df = pd.read_csv(link)"
   ]
  },
  {
   "cell_type": "code",
   "execution_count": 3,
   "id": "first-rocket",
   "metadata": {},
   "outputs": [
    {
     "data": {
      "text/html": [
       "<div>\n",
       "<style scoped>\n",
       "    .dataframe tbody tr th:only-of-type {\n",
       "        vertical-align: middle;\n",
       "    }\n",
       "\n",
       "    .dataframe tbody tr th {\n",
       "        vertical-align: top;\n",
       "    }\n",
       "\n",
       "    .dataframe thead th {\n",
       "        text-align: right;\n",
       "    }\n",
       "</style>\n",
       "<table border=\"1\" class=\"dataframe\">\n",
       "  <thead>\n",
       "    <tr style=\"text-align: right;\">\n",
       "      <th></th>\n",
       "      <th>amount</th>\n",
       "      <th>account_age</th>\n",
       "      <th>holder_age</th>\n",
       "      <th>account_balance</th>\n",
       "      <th>transaction_time</th>\n",
       "      <th>entry_type</th>\n",
       "      <th>gender</th>\n",
       "      <th>broswer</th>\n",
       "      <th>avs</th>\n",
       "      <th>cvv</th>\n",
       "      <th>connection_type</th>\n",
       "      <th>card_number</th>\n",
       "      <th>account_type</th>\n",
       "      <th>location</th>\n",
       "      <th>bank</th>\n",
       "      <th>label</th>\n",
       "    </tr>\n",
       "  </thead>\n",
       "  <tbody>\n",
       "    <tr>\n",
       "      <th>0</th>\n",
       "      <td>7025</td>\n",
       "      <td>4030</td>\n",
       "      <td>53</td>\n",
       "      <td>1230</td>\n",
       "      <td>5</td>\n",
       "      <td>magnetic strip</td>\n",
       "      <td>female</td>\n",
       "      <td>Mozilla/5.0</td>\n",
       "      <td>n</td>\n",
       "      <td>6348</td>\n",
       "      <td>https</td>\n",
       "      <td>465</td>\n",
       "      <td>debit</td>\n",
       "      <td>Bulawayo</td>\n",
       "      <td>First Capital Bank</td>\n",
       "      <td>True</td>\n",
       "    </tr>\n",
       "    <tr>\n",
       "      <th>1</th>\n",
       "      <td>4438</td>\n",
       "      <td>5587</td>\n",
       "      <td>47</td>\n",
       "      <td>1663</td>\n",
       "      <td>10</td>\n",
       "      <td>online</td>\n",
       "      <td>male</td>\n",
       "      <td>Chrome/41.0.2272.89</td>\n",
       "      <td>y</td>\n",
       "      <td>2744</td>\n",
       "      <td>http</td>\n",
       "      <td>681</td>\n",
       "      <td>debit</td>\n",
       "      <td>Harare</td>\n",
       "      <td>Agribank</td>\n",
       "      <td>False</td>\n",
       "    </tr>\n",
       "    <tr>\n",
       "      <th>2</th>\n",
       "      <td>5271</td>\n",
       "      <td>7440</td>\n",
       "      <td>24</td>\n",
       "      <td>1602</td>\n",
       "      <td>10</td>\n",
       "      <td>online</td>\n",
       "      <td>female</td>\n",
       "      <td>lk/41.0.2272.89</td>\n",
       "      <td>n</td>\n",
       "      <td>5105</td>\n",
       "      <td>https</td>\n",
       "      <td>262</td>\n",
       "      <td>debit</td>\n",
       "      <td>Bulawayo</td>\n",
       "      <td>Steward Bank</td>\n",
       "      <td>False</td>\n",
       "    </tr>\n",
       "    <tr>\n",
       "      <th>3</th>\n",
       "      <td>7878</td>\n",
       "      <td>5776</td>\n",
       "      <td>51</td>\n",
       "      <td>2808</td>\n",
       "      <td>1</td>\n",
       "      <td>chip</td>\n",
       "      <td>female</td>\n",
       "      <td>Mozilla/5.0</td>\n",
       "      <td>y</td>\n",
       "      <td>2369</td>\n",
       "      <td>http</td>\n",
       "      <td>552</td>\n",
       "      <td>debit</td>\n",
       "      <td>Harare</td>\n",
       "      <td>BANC ABC</td>\n",
       "      <td>False</td>\n",
       "    </tr>\n",
       "    <tr>\n",
       "      <th>4</th>\n",
       "      <td>1339</td>\n",
       "      <td>6597</td>\n",
       "      <td>52</td>\n",
       "      <td>4526</td>\n",
       "      <td>10</td>\n",
       "      <td>chip</td>\n",
       "      <td>female</td>\n",
       "      <td>Chrome/41.0.2272.89</td>\n",
       "      <td>y</td>\n",
       "      <td>6225</td>\n",
       "      <td>https</td>\n",
       "      <td>297</td>\n",
       "      <td>debit</td>\n",
       "      <td>Rusape</td>\n",
       "      <td>Agribank</td>\n",
       "      <td>False</td>\n",
       "    </tr>\n",
       "  </tbody>\n",
       "</table>\n",
       "</div>"
      ],
      "text/plain": [
       "   amount  account_age  holder_age  account_balance  transaction_time  \\\n",
       "0    7025         4030          53             1230                 5   \n",
       "1    4438         5587          47             1663                10   \n",
       "2    5271         7440          24             1602                10   \n",
       "3    7878         5776          51             2808                 1   \n",
       "4    1339         6597          52             4526                10   \n",
       "\n",
       "       entry_type  gender              broswer avs   cvv connection_type  \\\n",
       "0  magnetic strip  female          Mozilla/5.0   n  6348           https   \n",
       "1          online    male  Chrome/41.0.2272.89   y  2744            http   \n",
       "2          online  female      lk/41.0.2272.89   n  5105           https   \n",
       "3            chip  female          Mozilla/5.0   y  2369            http   \n",
       "4            chip  female  Chrome/41.0.2272.89   y  6225           https   \n",
       "\n",
       "   card_number account_type  location                bank  label  \n",
       "0          465        debit  Bulawayo  First Capital Bank   True  \n",
       "1          681        debit    Harare            Agribank  False  \n",
       "2          262        debit  Bulawayo        Steward Bank  False  \n",
       "3          552        debit    Harare            BANC ABC  False  \n",
       "4          297        debit    Rusape            Agribank  False  "
      ]
     },
     "execution_count": 3,
     "metadata": {},
     "output_type": "execute_result"
    }
   ],
   "source": [
    "df.head()"
   ]
  },
  {
   "cell_type": "code",
   "execution_count": 4,
   "id": "offensive-shape",
   "metadata": {},
   "outputs": [
    {
     "name": "stdout",
     "output_type": "stream",
     "text": [
      "<class 'pandas.core.frame.DataFrame'>\n",
      "RangeIndex: 35000 entries, 0 to 34999\n",
      "Data columns (total 16 columns):\n",
      " #   Column            Non-Null Count  Dtype \n",
      "---  ------            --------------  ----- \n",
      " 0   amount            35000 non-null  int64 \n",
      " 1   account_age       35000 non-null  int64 \n",
      " 2   holder_age        35000 non-null  int64 \n",
      " 3   account_balance   35000 non-null  int64 \n",
      " 4   transaction_time  35000 non-null  int64 \n",
      " 5   entry_type        35000 non-null  object\n",
      " 6   gender            35000 non-null  object\n",
      " 7   broswer           35000 non-null  object\n",
      " 8   avs               35000 non-null  object\n",
      " 9   cvv               35000 non-null  int64 \n",
      " 10  connection_type   35000 non-null  object\n",
      " 11  card_number       35000 non-null  int64 \n",
      " 12  account_type      35000 non-null  object\n",
      " 13  location          35000 non-null  object\n",
      " 14  bank              35000 non-null  object\n",
      " 15  label             35000 non-null  bool  \n",
      "dtypes: bool(1), int64(7), object(8)\n",
      "memory usage: 4.0+ MB\n"
     ]
    }
   ],
   "source": [
    "df.info()"
   ]
  },
  {
   "cell_type": "code",
   "execution_count": 5,
   "id": "romance-snapshot",
   "metadata": {},
   "outputs": [
    {
     "data": {
      "text/html": [
       "<div>\n",
       "<style scoped>\n",
       "    .dataframe tbody tr th:only-of-type {\n",
       "        vertical-align: middle;\n",
       "    }\n",
       "\n",
       "    .dataframe tbody tr th {\n",
       "        vertical-align: top;\n",
       "    }\n",
       "\n",
       "    .dataframe thead th {\n",
       "        text-align: right;\n",
       "    }\n",
       "</style>\n",
       "<table border=\"1\" class=\"dataframe\">\n",
       "  <thead>\n",
       "    <tr style=\"text-align: right;\">\n",
       "      <th></th>\n",
       "      <th>amount</th>\n",
       "      <th>account_age</th>\n",
       "      <th>holder_age</th>\n",
       "      <th>account_balance</th>\n",
       "      <th>transaction_time</th>\n",
       "      <th>cvv</th>\n",
       "      <th>card_number</th>\n",
       "    </tr>\n",
       "  </thead>\n",
       "  <tbody>\n",
       "    <tr>\n",
       "      <th>count</th>\n",
       "      <td>35000.000000</td>\n",
       "      <td>35000.000000</td>\n",
       "      <td>35000.000000</td>\n",
       "      <td>35000.000000</td>\n",
       "      <td>35000.000000</td>\n",
       "      <td>35000.000000</td>\n",
       "      <td>35000.000000</td>\n",
       "    </tr>\n",
       "    <tr>\n",
       "      <th>mean</th>\n",
       "      <td>6720.115600</td>\n",
       "      <td>3375.188800</td>\n",
       "      <td>42.508400</td>\n",
       "      <td>5198.485400</td>\n",
       "      <td>9.168600</td>\n",
       "      <td>5558.105000</td>\n",
       "      <td>539.804000</td>\n",
       "    </tr>\n",
       "    <tr>\n",
       "      <th>std</th>\n",
       "      <td>3977.340221</td>\n",
       "      <td>3582.734114</td>\n",
       "      <td>12.939007</td>\n",
       "      <td>4102.836544</td>\n",
       "      <td>5.285392</td>\n",
       "      <td>2592.511375</td>\n",
       "      <td>258.340745</td>\n",
       "    </tr>\n",
       "    <tr>\n",
       "      <th>min</th>\n",
       "      <td>210.000000</td>\n",
       "      <td>20.000000</td>\n",
       "      <td>18.000000</td>\n",
       "      <td>80.000000</td>\n",
       "      <td>1.000000</td>\n",
       "      <td>1005.000000</td>\n",
       "      <td>101.000000</td>\n",
       "    </tr>\n",
       "    <tr>\n",
       "      <th>25%</th>\n",
       "      <td>3335.000000</td>\n",
       "      <td>190.000000</td>\n",
       "      <td>32.000000</td>\n",
       "      <td>2166.750000</td>\n",
       "      <td>5.000000</td>\n",
       "      <td>3285.750000</td>\n",
       "      <td>320.750000</td>\n",
       "    </tr>\n",
       "    <tr>\n",
       "      <th>50%</th>\n",
       "      <td>6453.000000</td>\n",
       "      <td>1892.000000</td>\n",
       "      <td>42.000000</td>\n",
       "      <td>4189.500000</td>\n",
       "      <td>9.000000</td>\n",
       "      <td>5677.500000</td>\n",
       "      <td>527.500000</td>\n",
       "    </tr>\n",
       "    <tr>\n",
       "      <th>75%</th>\n",
       "      <td>9739.250000</td>\n",
       "      <td>6413.250000</td>\n",
       "      <td>52.000000</td>\n",
       "      <td>6538.000000</td>\n",
       "      <td>12.000000</td>\n",
       "      <td>7728.750000</td>\n",
       "      <td>769.000000</td>\n",
       "    </tr>\n",
       "    <tr>\n",
       "      <th>max</th>\n",
       "      <td>14999.000000</td>\n",
       "      <td>10997.000000</td>\n",
       "      <td>72.000000</td>\n",
       "      <td>16000.000000</td>\n",
       "      <td>22.000000</td>\n",
       "      <td>9987.000000</td>\n",
       "      <td>998.000000</td>\n",
       "    </tr>\n",
       "  </tbody>\n",
       "</table>\n",
       "</div>"
      ],
      "text/plain": [
       "             amount   account_age    holder_age  account_balance  \\\n",
       "count  35000.000000  35000.000000  35000.000000     35000.000000   \n",
       "mean    6720.115600   3375.188800     42.508400      5198.485400   \n",
       "std     3977.340221   3582.734114     12.939007      4102.836544   \n",
       "min      210.000000     20.000000     18.000000        80.000000   \n",
       "25%     3335.000000    190.000000     32.000000      2166.750000   \n",
       "50%     6453.000000   1892.000000     42.000000      4189.500000   \n",
       "75%     9739.250000   6413.250000     52.000000      6538.000000   \n",
       "max    14999.000000  10997.000000     72.000000     16000.000000   \n",
       "\n",
       "       transaction_time           cvv   card_number  \n",
       "count      35000.000000  35000.000000  35000.000000  \n",
       "mean           9.168600   5558.105000    539.804000  \n",
       "std            5.285392   2592.511375    258.340745  \n",
       "min            1.000000   1005.000000    101.000000  \n",
       "25%            5.000000   3285.750000    320.750000  \n",
       "50%            9.000000   5677.500000    527.500000  \n",
       "75%           12.000000   7728.750000    769.000000  \n",
       "max           22.000000   9987.000000    998.000000  "
      ]
     },
     "execution_count": 5,
     "metadata": {},
     "output_type": "execute_result"
    }
   ],
   "source": [
    "df.describe()"
   ]
  },
  {
   "cell_type": "code",
   "execution_count": 6,
   "id": "banner-agenda",
   "metadata": {},
   "outputs": [
    {
     "data": {
      "text/plain": [
       "Agribank              13580\n",
       "FBC Bank               4620\n",
       "Steward Bank           4480\n",
       "BANC ABC               4375\n",
       "CBZ Bank               4060\n",
       "First Capital Bank     3885\n",
       "Name: bank, dtype: int64"
      ]
     },
     "execution_count": 6,
     "metadata": {},
     "output_type": "execute_result"
    }
   ],
   "source": [
    "df['bank'].value_counts()"
   ]
  },
  {
   "cell_type": "code",
   "execution_count": 7,
   "id": "broadband-junior",
   "metadata": {},
   "outputs": [
    {
     "data": {
      "text/plain": [
       "Bulawayo     9590\n",
       "Harare       8225\n",
       "Kwekwe       4585\n",
       "Gweru        3815\n",
       "Hwange       2450\n",
       "Rusape       2240\n",
       "Bindura      2170\n",
       "Marondera    1925\n",
       "Name: location, dtype: int64"
      ]
     },
     "execution_count": 7,
     "metadata": {},
     "output_type": "execute_result"
    }
   ],
   "source": [
    "df['location'].value_counts()"
   ]
  },
  {
   "cell_type": "code",
   "execution_count": 8,
   "id": "unlimited-pixel",
   "metadata": {},
   "outputs": [
    {
     "data": {
      "text/plain": [
       "Mozilla/5.0            12495\n",
       "Chrome/41.0.2272.89    12145\n",
       "Safari/537.36           6615\n",
       "AppleWebKit/537.36      1365\n",
       "lk/41.0.2272.89         1260\n",
       "Linux x86_64            1120\n",
       "Name: broswer, dtype: int64"
      ]
     },
     "execution_count": 8,
     "metadata": {},
     "output_type": "execute_result"
    }
   ],
   "source": [
    "df['broswer'].value_counts()"
   ]
  },
  {
   "cell_type": "code",
   "execution_count": 9,
   "id": "arctic-thumb",
   "metadata": {},
   "outputs": [
    {
     "data": {
      "text/plain": [
       "online            14000\n",
       "chip              13265\n",
       "magnetic strip     7735\n",
       "Name: entry_type, dtype: int64"
      ]
     },
     "execution_count": 9,
     "metadata": {},
     "output_type": "execute_result"
    }
   ],
   "source": [
    "df['entry_type'].value_counts()"
   ]
  },
  {
   "cell_type": "code",
   "execution_count": 10,
   "id": "noted-routine",
   "metadata": {},
   "outputs": [
    {
     "name": "stderr",
     "output_type": "stream",
     "text": [
      "c:\\users\\nyasha chizampeni\\appdata\\local\\programs\\python\\python38\\lib\\site-packages\\seaborn\\_decorators.py:36: FutureWarning: Pass the following variables as keyword args: x, y, data. From version 0.12, the only valid positional argument will be `data`, and passing other arguments without an explicit keyword will result in an error or misinterpretation.\n",
      "  warnings.warn(\n"
     ]
    },
    {
     "data": {
      "image/png": "[encoded data removed]",
      "text/plain": [
       "<Figure size 1080x720 with 1 Axes>"
      ]
     },
     "metadata": {
      "needs_background": "light"
     },
     "output_type": "display_data"
    }
   ],
   "source": [
    "sns.lmplot('bank', 'holder_age', df, hue='label', fit_reg=False)\n",
    "fig = plt.gcf()\n",
    "fig.set_size_inches(15,10)\n",
    "plt.show()"
   ]
  },
  {
   "cell_type": "code",
   "execution_count": 11,
   "id": "answering-confidentiality",
   "metadata": {},
   "outputs": [
    {
     "name": "stderr",
     "output_type": "stream",
     "text": [
      "c:\\users\\nyasha chizampeni\\appdata\\local\\programs\\python\\python38\\lib\\site-packages\\seaborn\\_decorators.py:36: FutureWarning: Pass the following variables as keyword args: x, y, data. From version 0.12, the only valid positional argument will be `data`, and passing other arguments without an explicit keyword will result in an error or misinterpretation.\n",
      "  warnings.warn(\n"
     ]
    },
    {
     "data": {
      "image/png": "[encoded data removed]",
      "text/plain": [
       "<Figure size 1080x720 with 1 Axes>"
      ]
     },
     "metadata": {
      "needs_background": "light"
     },
     "output_type": "display_data"
    }
   ],
   "source": [
    "sns.lmplot('location', 'holder_age', df, hue='label', fit_reg=False)\n",
    "fig = plt.gcf()\n",
    "fig.set_size_inches(15,10)\n",
    "plt.show()"
   ]
  },
  {
   "cell_type": "code",
   "execution_count": 12,
   "id": "immune-pilot",
   "metadata": {},
   "outputs": [
    {
     "name": "stderr",
     "output_type": "stream",
     "text": [
      "c:\\users\\nyasha chizampeni\\appdata\\local\\programs\\python\\python38\\lib\\site-packages\\seaborn\\_decorators.py:36: FutureWarning: Pass the following variables as keyword args: x, y, data. From version 0.12, the only valid positional argument will be `data`, and passing other arguments without an explicit keyword will result in an error or misinterpretation.\n",
      "  warnings.warn(\n"
     ]
    },
    {
     "data": {
      "image/png": "[encoded data removed]",
      "text/plain": [
       "<Figure size 1080x720 with 1 Axes>"
      ]
     },
     "metadata": {
      "needs_background": "light"
     },
     "output_type": "display_data"
    }
   ],
   "source": [
    "sns.lmplot('entry_type', 'account_age', df, hue='label', fit_reg=False)\n",
    "fig = plt.gcf()\n",
    "fig.set_size_inches(15,10)\n",
    "plt.show()"
   ]
  },
  {
   "cell_type": "code",
   "execution_count": 13,
   "id": "little-papua",
   "metadata": {},
   "outputs": [
    {
     "data": {
      "text/plain": [
       "label               1.000000\n",
       "cvv                 0.035908\n",
       "transaction_time    0.018024\n",
       "amount              0.004563\n",
       "card_number        -0.002643\n",
       "account_age        -0.004141\n",
       "account_balance    -0.005390\n",
       "holder_age         -0.013732\n",
       "Name: label, dtype: float64"
      ]
     },
     "execution_count": 13,
     "metadata": {},
     "output_type": "execute_result"
    }
   ],
   "source": [
    "matrix = df.corr()\n",
    "matrix['label'].sort_values(ascending=False)"
   ]
  },
  {
   "cell_type": "code",
   "execution_count": 14,
   "id": "acting-alabama",
   "metadata": {},
   "outputs": [
    {
     "data": {
      "text/plain": [
       "<AxesSubplot:>"
      ]
     },
     "execution_count": 14,
     "metadata": {},
     "output_type": "execute_result"
    },
    {
     "data": {
      "image/png": "[encoded data removed]",
      "text/plain": [
       "<Figure size 792x720 with 2 Axes>"
      ]
     },
     "metadata": {
      "needs_background": "light"
     },
     "output_type": "display_data"
    }
   ],
   "source": [
    "sns.heatmap(matrix, vmax=0.8, square=True)"
   ]
  },
  {
   "cell_type": "code",
   "execution_count": 15,
   "id": "employed-newton",
   "metadata": {},
   "outputs": [
    {
     "data": {
      "text/plain": [
       "['pipeline.pkl']"
      ]
     },
     "execution_count": 15,
     "metadata": {},
     "output_type": "execute_result"
    }
   ],
   "source": [
    "#defing a data transformation pipeline\n",
    "\n",
    "from sklearn.pipeline import Pipeline\n",
    "from sklearn.compose import ColumnTransformer\n",
    "from sklearn.impute import SimpleImputer as Imputer\n",
    "from sklearn.preprocessing import StandardScaler\n",
    "num_pipe = Pipeline([\n",
    "('imputer', Imputer(strategy=\"median\")),\n",
    "('std_scaler', StandardScaler()),\n",
    "])\n",
    "\n",
    "pipe = ColumnTransformer([\n",
    "(\"num\", num_pipe, ['holder_age','account_age','cvv', 'amount','transaction_time','account_balance','card_number']),\n",
    "(\"cat\", OneHotEncoder(), ['account_type','entry_type','location','bank','connection_type','avs', 'gender','broswer'])\n",
    "])\n",
    "\n",
    "#exporting the data transformation pipeline\n",
    "joblib.dump(pipe,'pipeline.pkl')"
   ]
  },
  {
   "cell_type": "code",
   "execution_count": 16,
   "id": "breeding-somerset",
   "metadata": {},
   "outputs": [
    {
     "name": "stdout",
     "output_type": "stream",
     "text": [
      "       amount  account_age  holder_age  account_balance  transaction_time  \\\n",
      "0        7025         4030          53             1230                 5   \n",
      "1        4438         5587          47             1663                10   \n",
      "2        5271         7440          24             1602                10   \n",
      "3        7878         5776          51             2808                 1   \n",
      "4        1339         6597          52             4526                10   \n",
      "...       ...          ...         ...              ...               ...   \n",
      "34995    3951          122          33             3114                 4   \n",
      "34996    6518          202          46             1552                22   \n",
      "34997    9903          291          66             9148                19   \n",
      "34998   12187          218          21            14699                 5   \n",
      "34999    4731          140          51             5935                14   \n",
      "\n",
      "           entry_type  gender              broswer avs   cvv connection_type  \\\n",
      "0      magnetic strip  female          Mozilla/5.0   n  6348           https   \n",
      "1              online    male  Chrome/41.0.2272.89   y  2744            http   \n",
      "2              online  female      lk/41.0.2272.89   n  5105           https   \n",
      "3                chip  female          Mozilla/5.0   y  2369            http   \n",
      "4                chip  female  Chrome/41.0.2272.89   y  6225           https   \n",
      "...               ...     ...                  ...  ..   ...             ...   \n",
      "34995          online  female        Safari/537.36   n  9241           https   \n",
      "34996          online  female  Chrome/41.0.2272.89   n  1173            http   \n",
      "34997  magnetic strip  female          Mozilla/5.0   n  4594            http   \n",
      "34998          online  female        Safari/537.36   n  2096            http   \n",
      "34999          online  female  Chrome/41.0.2272.89   y  8869            http   \n",
      "\n",
      "       card_number account_type  location                bank  \n",
      "0              465        debit  Bulawayo  First Capital Bank  \n",
      "1              681        debit    Harare            Agribank  \n",
      "2              262        debit  Bulawayo        Steward Bank  \n",
      "3              552        debit    Harare            BANC ABC  \n",
      "4              297        debit    Rusape            Agribank  \n",
      "...            ...          ...       ...                 ...  \n",
      "34995          651       credit  Bulawayo        Steward Bank  \n",
      "34996          678       credit  Bulawayo            Agribank  \n",
      "34997          310        debit  Bulawayo            Agribank  \n",
      "34998          240       credit    Harare            Agribank  \n",
      "34999          837        debit    Harare            FBC Bank  \n",
      "\n",
      "[35000 rows x 15 columns]\n"
     ]
    }
   ],
   "source": [
    "#separating the data label from the other features\n",
    "\n",
    "target = \"label\"\n",
    "X = df.drop(target, axis=1)  #training set\n",
    "y = df[target]   #labels\n",
    "print(X)\n",
    "#transforming the data\n",
    "pipe= pipe.fit(X)\n",
    "joblib.dump(pipe,'pipeline.pkl')\n",
    "X = pipe.transform(X)"
   ]
  },
  {
   "cell_type": "code",
   "execution_count": 17,
   "id": "affiliated-italian",
   "metadata": {},
   "outputs": [
    {
     "data": {
      "text/plain": [
       "((35000, 38), (35000,))"
      ]
     },
     "execution_count": 17,
     "metadata": {},
     "output_type": "execute_result"
    }
   ],
   "source": [
    "X.shape, y.shape"
   ]
  },
  {
   "cell_type": "code",
   "execution_count": 18,
   "id": "possible-appreciation",
   "metadata": {},
   "outputs": [
    {
     "name": "stdout",
     "output_type": "stream",
     "text": [
      "outlier_fraction: 0.021450459652706845\n"
     ]
    }
   ],
   "source": [
    "#defing the outlier fraction for the local Outlier Factor algorithm\n",
    "fraud = df[df['label'] == 1]\n",
    "normal = df[df['label'] == 0]\n",
    "outlier_fraction =  len(fraud) / float(len(normal))\n",
    "print('outlier_fraction:',outlier_fraction)"
   ]
  },
  {
   "cell_type": "code",
   "execution_count": 19,
   "id": "dominican-opportunity",
   "metadata": {},
   "outputs": [],
   "source": [
    "from sklearn.metrics import classification_report, accuracy_score, confusion_matrix\n",
    "from sklearn.ensemble import IsolationForest, AdaBoostClassifier, RandomForestClassifier\n",
    "from sklearn.neighbors import LocalOutlierFactor, KNeighborsClassifier\n",
    "from sklearn.model_selection import train_test_split\n",
    "from sklearn.svm import OneClassSVM\n",
    "from sklearn.tree import DecisionTreeClassifier"
   ]
  },
  {
   "cell_type": "code",
   "execution_count": 20,
   "id": "sonic-dealer",
   "metadata": {},
   "outputs": [],
   "source": [
    "classifier_accuracy = {}\n",
    "#initializing the classification algorithms\n",
    "classifiers = {\n",
    "               'Local Outlier Factor': LocalOutlierFactor(n_neighbors=20, contamination=outlier_fraction, algorithm='auto', leaf_size=25, metric='minkowski'),\n",
    "               'Support Vector Machine': OneClassSVM(kernel='rbf', degree=3, gamma= 0.1, nu=0.05, max_iter=-1),\n",
    "               'Decision Tree Classifier':DecisionTreeClassifier( criterion='entropy',splitter=\"best\", max_leaf_nodes=15),\n",
    "               'Isolation Forest': IsolationForest(max_samples=len(X), contamination=outlier_fraction, random_state=1, verbose=0),\n",
    "               'Ada Boost Classifier':AdaBoostClassifier(),\n",
    "               'Random Forest Classifier':RandomForestClassifier(), \n",
    "               'KNeighbors Classifier': KNeighborsClassifier(5)\n",
    "               \n",
    "              }"
   ]
  },
  {
   "cell_type": "code",
   "execution_count": null,
   "id": "proprietary-privacy",
   "metadata": {},
   "outputs": [],
   "source": [
    "#fitting, training and evaluating each algorithm \n",
    "n_outliers = len(fraud)\n",
    "\n",
    "for i, (clf_name, clf) in enumerate(classifiers.items()):\n",
    "   \n",
    "    if clf_name == 'Local Outlier Factor':\n",
    "        y_pred = clf.fit_predict(X)\n",
    "        y_pred[y_pred ==1]=0\n",
    "        y_pred[y_pred ==-1]=1\n",
    "        n_errors = (y_pred !=y).sum()\n",
    "        print('{}:{}'.format(clf_name,n_errors))\n",
    "        print('Accuracy Score:',accuracy_score(y, y_pred))\n",
    "        print(classification_report(y, y_pred))\n",
    "        print(confusion_matrix(y, y_pred))\n",
    "        classifier_accuracy.update({clf_name:accuracy_score(y, y_pred)})\n",
    "    \n",
    "    \n",
    "    elif clf_name == 'Support Vector Machine':\n",
    "        clf.fit(X)\n",
    "        y_pred = clf.predict(X)\n",
    "        y_pred[y_pred ==1]=0\n",
    "        y_pred[y_pred ==-1]=1\n",
    "        n_errors = (y_pred !=y).sum()\n",
    "        print('{}:{}'.format(clf_name,n_errors))\n",
    "        print('Accuracy Score:',accuracy_score(y, y_pred))\n",
    "        print(classification_report(y, y_pred))\n",
    "        print(confusion_matrix(y, y_pred))\n",
    "        classifier_accuracy.update({clf_name:accuracy_score(y, y_pred)})\n",
    "    \n",
    "    \n",
    "    \n",
    "    elif clf_name == 'Decision Tree Classifier':\n",
    "        X_train, X_test, y_train, y_test = train_test_split(X, y, random_state=1, test_size=0.3)\n",
    "        clf = clf.fit(X_train, y_train)\n",
    "        y_pred = clf.predict(X_test)\n",
    "        n_errors = (y_pred !=y_test).sum()\n",
    "        print('{}:{}'.format(clf_name,n_errors))\n",
    "        print('Accuracy Score:',accuracy_score(y_test, y_pred))\n",
    "        print(classification_report(y_test, y_pred))\n",
    "        print(confusion_matrix(y_test, y_pred))\n",
    "        classifier_accuracy.update({clf_name:accuracy_score(y_test, y_pred)})\n",
    "       \n",
    "        x = clf\n",
    "    \n",
    "    elif clf_name == 'Ada Boost Classifier':\n",
    "        X_train, X_test, y_train, y_test = train_test_split(X, y, random_state=1, test_size=0.3)\n",
    "        clf = clf.fit(X_train, y_train)\n",
    "        y_pred = clf.predict(X_test)\n",
    "        n_errors = (y_pred !=y_test).sum()\n",
    "        print('{}:{}'.format(clf_name,n_errors))\n",
    "        print('Accuracy Score:',accuracy_score(y_test, y_pred))\n",
    "        print(classification_report(y_test, y_pred))\n",
    "        print(confusion_matrix(y_test, y_pred))\n",
    "        classifier_accuracy.update({clf_name:accuracy_score(y_test, y_pred)})\n",
    "\n",
    "        \n",
    "    elif clf_name == 'Random Forest Classifier':\n",
    "        X_train, X_test, y_train, y_test = train_test_split(X, y, random_state=1, test_size=0.3)\n",
    "        clf = DecisionTreeClassifier()\n",
    "        clf = clf.fit(X_train, y_train)\n",
    "        y_pred = clf.predict(X_test)\n",
    "        n_errors = (y_pred !=y_test).sum()\n",
    "        print('{}:{}'.format(clf_name,n_errors))\n",
    "        print('Accuracy Score:',accuracy_score(y_test, y_pred))\n",
    "        print(classification_report(y_test, y_pred))\n",
    "        print(confusion_matrix(y_test, y_pred))\n",
    "        classifier_accuracy.update({clf_name:accuracy_score(y_test, y_pred)})\n",
    "        #exporting the prefered model\n",
    "        joblib.dump(clf,'fraud_detection_model.pkl')\n",
    "\n",
    "    elif clf_name == 'KNeighbors Classifier':\n",
    "        X_train, X_test, y_train, y_test = train_test_split(X, y, random_state=1, test_size=0.3)\n",
    "        clf = clf.fit(X_train, y_train)\n",
    "        y_pred = clf.predict(X_test)\n",
    "        n_errors = (y_pred !=y_test).sum()\n",
    "        print('{}:{}'.format(clf_name,n_errors))\n",
    "        print('Accuracy Score:',accuracy_score(y_test, y_pred))\n",
    "        print(classification_report(y_test, y_pred))\n",
    "        print(confusion_matrix(y_test, y_pred))\n",
    "        classifier_accuracy.update({clf_name:accuracy_score(y_test, y_pred)})\n",
    "        \n",
    "    else:\n",
    "        clf.fit(X)\n",
    "        score_pred = clf.decision_function(X)\n",
    "        y_pred = clf.predict(X)\n",
    "        y_pred[y_pred ==1]=0\n",
    "        y_pred[y_pred ==-1]=1\n",
    "        n_errors = (y_pred !=y).sum()\n",
    "        print('{}:{}'.format(clf_name,n_errors))\n",
    "        print('Accuracy Score:',accuracy_score(y, y_pred))\n",
    "        print(classification_report(y, y_pred))\n",
    "        print(confusion_matrix(y, y_pred))\n",
    "        classifier_accuracy.update({clf_name:accuracy_score(y, y_pred)})\n",
    "    print('-------------------------------------------------------------')"
   ]
  },
  {
   "cell_type": "code",
   "execution_count": 46,
   "id": "former-delay",
   "metadata": {},
   "outputs": [],
   "source": [
    "#creating a table of classifiers and thier accuracy\n",
    "ca = [[a,b] for a,b in classifier_accuracy.items()]\n",
    "ca = pd.DataFrame(ca, columns=['Classifier','Accuracy'])"
   ]
  },
  {
   "cell_type": "code",
   "execution_count": 47,
   "id": "indie-queen",
   "metadata": {},
   "outputs": [
    {
     "data": {
      "image/png": "[encoded data removed]",
      "text/plain": [
       "<Figure size 792x720 with 1 Axes>"
      ]
     },
     "metadata": {
      "needs_background": "light"
     },
     "output_type": "display_data"
    }
   ],
   "source": [
    "#plotting classifiers and thier accuracy\n",
    "import seaborn as sns\n",
    "sns.set_color_codes('muted')\n",
    "sns.barplot(x='Accuracy', y='Classifier', data=ca, color='g')\n",
    "plt.xlabel('Accuracy %')\n",
    "plt.ylabel('Classifier ')\n",
    "plt.title('Classifier Accuracy')\n",
    "plt.show()"
   ]
  },
  {
   "cell_type": "code",
   "execution_count": null,
   "id": "sorted-dayton",
   "metadata": {},
   "outputs": [],
   "source": []
  }
 ],
 "metadata": {
  "kernelspec": {
   "display_name": "Python 3",
   "language": "python",
   "name": "python3"
  },
  "language_info": {
   "codemirror_mode": {
    "name": "ipython",
    "version": 3
   },
   "file_extension": ".py",
   "mimetype": "text/x-python",
   "name": "python",
   "nbconvert_exporter": "python",
   "pygments_lexer": "ipython3",
   "version": "3.8.0"
  }
 },
 "nbformat": 4,
 "nbformat_minor": 5
}
