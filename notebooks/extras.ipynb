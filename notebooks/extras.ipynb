{
 "cells": [
  {
   "cell_type": "code",
   "execution_count": 1,
   "id": "theoretical-transparency",
   "metadata": {},
   "outputs": [],
   "source": [
    "#defing a data transformation pipeline\n",
    "\n",
    "#from sklearn.pipeline import Pipeline\n",
    "#from sklearn.compose import ColumnTransformer\n",
    "#from sklearn.impute import SimpleImputer as Imputer\n",
    "#from sklearn.preprocessing import StandardScaler\n",
    "#num_pipe = Pipeline([\n",
    "#('imputer', Imputer(strategy=\"median\")),\n",
    "#('std_scaler', StandardScaler()),\n",
    "#])\n",
    "\n",
    "#pipe = ColumnTransformer([\n",
    "#(\"num\", num_pipe, ['holder_age','account_age','cvv', 'account_balance','transaction_time', 'card_number']),\n",
    "#(\"cat\", OneHotEncoder(), ['account_type','location','bank','connection_type','broswer','avs', 'gender','label','entry_type'])\n",
    "#])\n",
    "\n",
    "#exporting the data transformation pipeline\n",
    "#joblib.dump(pipe,'pipeline.pkl')"
   ]
  },
  {
   "cell_type": "code",
   "execution_count": 2,
   "id": "supreme-birmingham",
   "metadata": {},
   "outputs": [],
   "source": [
    "#separating the data label from the other features\n",
    "\n",
    "#target = \"label\"\n",
    "#X = df.drop(target, axis=1)  #training set\n",
    "#y = df[target]   #labels\n",
    "#print(X)\n",
    "#transforming the data\n",
    "#pipe= pipe.fit(X)\n",
    "#joblib.dump(pipe,'pipeline.pkl')\n",
    "#X = pipe.transform(X)"
   ]
  },
  {
   "cell_type": "code",
   "execution_count": null,
   "id": "acceptable-mountain",
   "metadata": {},
   "outputs": [],
   "source": []
  }
 ],
 "metadata": {
  "kernelspec": {
   "display_name": "Python 3",
   "language": "python",
   "name": "python3"
  },
  "language_info": {
   "codemirror_mode": {
    "name": "ipython",
    "version": 3
   },
   "file_extension": ".py",
   "mimetype": "text/x-python",
   "name": "python",
   "nbconvert_exporter": "python",
   "pygments_lexer": "ipython3",
   "version": "3.8.0"
  }
 },
 "nbformat": 4,
 "nbformat_minor": 5
}
